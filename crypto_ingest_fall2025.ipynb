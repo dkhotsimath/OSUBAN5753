{
  "cells": [
    {
      "cell_type": "code",
      "source": [
        "# import all relevant packages\n",
        "import pandas as pd\n",
        "from pandas.io import gbq\n",
        "import requests\n",
        "import json"
      ],
      "metadata": {
        "id": "TKX-lVb-kFqc"
      },
      "id": "TKX-lVb-kFqc",
      "execution_count": 33,
      "outputs": []
    },
    {
      "cell_type": "code",
      "source": [
        "# call cryptocompare historical stats API\n",
        "\n",
        "# api_key should be yours\n",
        "def get_data():\n",
        "    crypto_api_url = \"https://data-api.coindesk.com/index/cc/v1/historical/days\"\n",
        "    payload = {'market': 'cadli','instrument': 'BTC-USD', 'aggregate': '1','fill': 'true','apply_mapping': 'true','limit': '50', 'response_format':'JSON', 'api_key': 'YOUR-API-KEY'}\n",
        "    request_data = requests.get(crypto_api_url,params=payload)\n",
        "    #return request_data.json()['Data']['Data']\n",
        "    return request_data.json()['Data']\n",
        "\n",
        "CryptoAPIDataResponse = get_data()\n",
        "\n",
        "CryptoAPIDataResponse"
      ],
      "metadata": {
        "id": "HP7EbstIkTo5"
      },
      "id": "HP7EbstIkTo5",
      "execution_count": null,
      "outputs": []
    },
    {
      "cell_type": "code",
      "source": [
        "#convert to JSON\n",
        "CryptoAPIDataResponseJSON = json.dumps(CryptoAPIDataResponse)\n",
        "print(CryptoAPIDataResponseJSON)"
      ],
      "metadata": {
        "id": "M7DMTHXckXvm"
      },
      "id": "M7DMTHXckXvm",
      "execution_count": null,
      "outputs": []
    },
    {
      "cell_type": "code",
      "source": [
        "#convert to pandas dataframe to prepare for insertion into BigQuery\n",
        "datalistDF = pd.read_json(CryptoAPIDataResponseJSON)\n",
        "datalistDF.head()"
      ],
      "metadata": {
        "id": "aBHZ8cxZkczD"
      },
      "id": "aBHZ8cxZkczD",
      "execution_count": null,
      "outputs": []
    },
    {
      "cell_type": "code",
      "source": [
        "# load data to bigquery using service account credentials\n",
        "\n",
        "from google.oauth2 import service_account\n",
        "\n",
        "credentials = service_account.Credentials.from_service_account_info(\n",
        "{\n",
        " #YOUR SERVICE ACCOUNT CREDENTIALS\n",
        "}\n",
        "\n",
        "\n",
        ",\n",
        ")\n",
        "datalistDF.to_gbq(destination_table='crypto_dataset.crypto_history',project_id='osu-demo-project-2025', if_exists='fail', credentials=credentials)"
      ],
      "metadata": {
        "id": "Hxfuy6askgkh"
      },
      "id": "Hxfuy6askgkh",
      "execution_count": null,
      "outputs": []
    }
  ],
  "metadata": {
    "kernelspec": {
      "display_name": "Python 3",
      "language": "python",
      "name": "python3"
    },
    "language_info": {
      "codemirror_mode": {
        "name": "ipython",
        "version": 3
      },
      "file_extension": ".py",
      "mimetype": "text/x-python",
      "name": "python",
      "nbconvert_exporter": "python",
      "pygments_lexer": "ipython3",
      "version": "3.10.10"
    },
    "colab": {
      "provenance": [],
      "name": "dkhots (Aug 17, 2025, 2:40:58 PM)"
    }
  },
  "nbformat": 4,
  "nbformat_minor": 5
}