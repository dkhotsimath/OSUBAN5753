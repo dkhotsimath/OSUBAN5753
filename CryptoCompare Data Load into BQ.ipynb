{
  "metadata": {
    "kernelspec": {
      "name": "python3",
      "display_name": "Python 3 (ipykernel)",
      "language": "python"
    },
    "language_info": {
      "name": "python",
      "version": "3.10.4",
      "mimetype": "text/x-python",
      "codemirror_mode": {
        "name": "ipython",
        "version": 3
      },
      "pygments_lexer": "ipython3",
      "nbconvert_exporter": "python",
      "file_extension": ".py"
    },
    "colab": {
      "provenance": []
    }
  },
  "nbformat_minor": 5,
  "nbformat": 4,
  "cells": [
    {
      "cell_type": "markdown",
      "source": [
        "# Welcome to Colab Enterprise <img src=\"https://lh3.googleusercontent.com/UiNooY4LUgW_oTvpsNhPpQzsstV5W8F7rYgxgGBD85cWJoLmrOzhVs_ksK_vgx40SHs7jCqkTkCk=e14-rj-sc0xffffff-h130-w32\" alt=\"Vertex AI logo\">\n",
        "\n",
        "Connect to a Runtime and begin!"
      ],
      "metadata": {
        "id": "7aZWXpbf0Eph"
      },
      "id": "7aZWXpbf0Eph"
    },
    {
      "cell_type": "markdown",
      "source": [
        "This code ingests data from crypto compare API and loads it into BigQuery Table"
      ],
      "metadata": {
        "id": "tTaeddlghcaa"
      },
      "id": "tTaeddlghcaa"
    },
    {
      "cell_type": "code",
      "source": [
        "# install pandas-gbq package to enable interaction of dataframes with bigquery\n",
        "pip install pandas-gbq"
      ],
      "metadata": {
        "id": "L13roZAZHQqO"
      },
      "id": "L13roZAZHQqO",
      "execution_count": null,
      "outputs": []
    },
    {
      "cell_type": "code",
      "source": [
        "# import all relevant packages\n",
        "import pandas as pd\n",
        "from pandas.io import gbq\n",
        "import requests\n",
        "import json"
      ],
      "metadata": {
        "id": "vifMj7LmHc7B",
        "executionInfo": {
          "status": "ok",
          "timestamp": 1694299447192,
          "user_tz": 300,
          "elapsed": 741,
          "user": {
            "displayName": "",
            "userId": ""
          }
        }
      },
      "id": "vifMj7LmHc7B",
      "execution_count": 6,
      "outputs": []
    },
    {
      "cell_type": "code",
      "source": [
        "# call cryptocompare historical stats API\n",
        "\n",
        "# api_key should be yours (walk thru creating it by watching azure videos from previous class)\n",
        "def get_data():\n",
        "    crypto_api_url = \"https://min-api.cryptocompare.com/data/v2/histoday\"\n",
        "    payload = {'fsym': 'BTC', 'tsym': 'USD','limit': '10', 'api_key': '31e1ecf5b68d157a68720a13dff010390f3295cffd89f93645e56059aed71d24'}\n",
        "    request_data = requests.get(crypto_api_url,params=payload)\n",
        "    return request_data.json()['Data']['Data']\n",
        "\n",
        "CryptoAPIDataResponse = get_data()\n",
        "\n",
        "CryptoAPIDataResponse"
      ],
      "metadata": {
        "id": "kajQ_S_4HeZm"
      },
      "id": "kajQ_S_4HeZm",
      "execution_count": null,
      "outputs": []
    },
    {
      "cell_type": "code",
      "source": [
        "#convert to JSON\n",
        "CryptoAPIDataResponseJSON = json.dumps(CryptoAPIDataResponse)\n",
        "print(CryptoAPIDataResponseJSON)"
      ],
      "metadata": {
        "id": "FHeg3bzJHjHx"
      },
      "id": "FHeg3bzJHjHx",
      "execution_count": null,
      "outputs": []
    },
    {
      "cell_type": "code",
      "source": [
        "#convert to pandas dataframe to prepare for insertion into BigQuery\n",
        "datalistDF = pd.read_json(CryptoAPIDataResponseJSON)\n",
        "datalistDF.head()"
      ],
      "metadata": {
        "id": "xHRH3m45HoAr"
      },
      "id": "xHRH3m45HoAr",
      "execution_count": null,
      "outputs": []
    },
    {
      "cell_type": "code",
      "source": [
        "# load data to bigquery using service account credentials\n",
        "\n",
        "from google.oauth2 import service_account\n",
        "\n",
        "credentials = service_account.Credentials.from_service_account_info(\n",
        "{\n",
        "  # enter service account credentials here\n",
        "}\n",
        ",\n",
        ")\n",
        "datalistDF.to_gbq(destination_table='SampleDataset.CryptoHistData2023',project_id='osudemoproject-341819', if_exists='fail', credentials=credentials)\n"
      ],
      "metadata": {
        "id": "serio3ZMH3JO"
      },
      "id": "serio3ZMH3JO",
      "execution_count": null,
      "outputs": []
    }
  ]
}